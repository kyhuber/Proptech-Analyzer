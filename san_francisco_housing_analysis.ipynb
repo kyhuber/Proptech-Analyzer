{
 "cells": [
  {
   "cell_type": "markdown",
   "metadata": {},
   "source": [
    "# Housing Rental Analysis for San Francisco\n",
    "\n",
    "This analysis considers data from the San Francisco housing market and visualizes trends over time.\n",
    "Using neighborhood-specific location data, an interactive GeoViews map is created."
   ]
  },
  {
   "cell_type": "code",
   "execution_count": 32,
   "metadata": {
    "tags": []
   },
   "outputs": [],
   "source": [
    "import pandas as pd\n",
    "import hvPlot.pandas\n",
    "import geoviews\n",
    "from pathlib import Path"
   ]
  },
  {
   "cell_type": "markdown",
   "metadata": {},
   "source": [
    "#### Read CSV Data"
   ]
  },
  {
   "cell_type": "code",
   "execution_count": 33,
   "metadata": {},
   "outputs": [],
   "source": [
    "sfo_data_df = pd.read_csv(\n",
    "    Path(\"Resources/sfo_neighborhoods_census_data.csv\",\n",
    "         index_col=\"date\",\n",
    "         parse_dates=True,\n",
    "         infer_datetime_format=True)\n",
    ")"
   ]
  },
  {
   "cell_type": "markdown",
   "metadata": {},
   "source": [
    "---"
   ]
  },
  {
   "cell_type": "markdown",
   "metadata": {
    "tags": []
   },
   "source": [
    "## Average Number of Housing Units"
   ]
  },
  {
   "cell_type": "code",
   "execution_count": 40,
   "metadata": {},
   "outputs": [
    {
     "data": {},
     "metadata": {},
     "output_type": "display_data"
    },
    {
     "data": {
      "application/vnd.holoviews_exec.v0+json": "",
      "text/html": [
       "<div id='4362'>\n",
       "\n",
       "\n",
       "\n",
       "\n",
       "\n",
       "  <div class=\"bk-root\" id=\"a16c0fde-905e-4fa3-8ed3-6d541e43c2f8\" data-root-id=\"4362\"></div>\n",
       "</div>\n",
       "<script type=\"application/javascript\">(function(root) {\n",
       "  function embed_document(root) {\n",
       "    var docs_json = {\"7445760a-054b-48df-923b-ee0a7e4230b9\":{\"defs\":[{\"extends\":null,\"module\":null,\"name\":\"ReactiveHTML1\",\"overrides\":[],\"properties\":[]},{\"extends\":null,\"module\":null,\"name\":\"FlexBox1\",\"overrides\":[],\"properties\":[{\"default\":\"flex-start\",\"kind\":null,\"name\":\"align_content\"},{\"default\":\"flex-start\",\"kind\":null,\"name\":\"align_items\"},{\"default\":\"row\",\"kind\":null,\"name\":\"flex_direction\"},{\"default\":\"wrap\",\"kind\":null,\"name\":\"flex_wrap\"},{\"default\":\"flex-start\",\"kind\":null,\"name\":\"justify_content\"}]},{\"extends\":null,\"module\":null,\"name\":\"TemplateActions1\",\"overrides\":[],\"properties\":[{\"default\":0,\"kind\":null,\"name\":\"open_modal\"},{\"default\":0,\"kind\":null,\"name\":\"close_modal\"}]},{\"extends\":null,\"module\":null,\"name\":\"MaterialTemplateActions1\",\"overrides\":[],\"properties\":[{\"default\":0,\"kind\":null,\"name\":\"open_modal\"},{\"default\":0,\"kind\":null,\"name\":\"close_modal\"}]}],\"roots\":{\"references\":[{\"attributes\":{\"factors\":[\"2010\",\"2011\",\"2012\",\"2013\",\"2014\",\"2015\",\"2016\"],\"tags\":[[[\"year\",\"year\",null]]]},\"id\":\"4364\",\"type\":\"FactorRange\"},{\"attributes\":{\"axis_label\":\"Year\",\"coordinates\":null,\"formatter\":{\"id\":\"4407\"},\"group\":null,\"major_label_orientation\":0.7853981633974483,\"major_label_policy\":{\"id\":\"4408\"},\"ticker\":{\"id\":\"4377\"}},\"id\":\"4376\",\"type\":\"CategoricalAxis\"},{\"attributes\":{},\"id\":\"4372\",\"type\":\"CategoricalScale\"},{\"attributes\":{\"bottom\":{\"value\":0},\"fill_alpha\":{\"value\":1.0},\"fill_color\":{\"value\":\"#30a2da\"},\"hatch_alpha\":{\"value\":1.0},\"hatch_color\":{\"value\":\"#30a2da\"},\"hatch_scale\":{\"value\":12.0},\"hatch_weight\":{\"value\":1.0},\"line_alpha\":{\"value\":1.0},\"line_cap\":{\"value\":\"butt\"},\"line_color\":{\"value\":\"black\"},\"line_dash\":{\"value\":[]},\"line_dash_offset\":{\"value\":0},\"line_join\":{\"value\":\"bevel\"},\"line_width\":{\"value\":1},\"top\":{\"field\":\"housing_units\"},\"width\":{\"value\":0.8},\"x\":{\"field\":\"year\"}},\"id\":\"4404\",\"type\":\"VBar\"},{\"attributes\":{},\"id\":\"4377\",\"type\":\"CategoricalTicker\"},{\"attributes\":{\"source\":{\"id\":\"4396\"}},\"id\":\"4403\",\"type\":\"CDSView\"},{\"attributes\":{\"end\":390000,\"reset_end\":390000,\"reset_start\":360000,\"start\":360000,\"tags\":[[[\"housing_units\",\"housing_units\",null]]]},\"id\":\"4365\",\"type\":\"Range1d\"},{\"attributes\":{\"callback\":null,\"renderers\":[{\"id\":\"4402\"}],\"tags\":[\"hv_created\"],\"tooltips\":[[\"year\",\"@{year}\"],[\"housing_units\",\"@{housing_units}\"]]},\"id\":\"4366\",\"type\":\"HoverTool\"},{\"attributes\":{\"coordinates\":null,\"group\":null,\"text\":\"Housing Units\",\"text_color\":\"black\",\"text_font_size\":\"12pt\"},\"id\":\"4368\",\"type\":\"Title\"},{\"attributes\":{\"below\":[{\"id\":\"4376\"}],\"center\":[{\"id\":\"4378\"},{\"id\":\"4382\"}],\"height\":300,\"left\":[{\"id\":\"4379\"}],\"margin\":[5,5,5,5],\"min_border_bottom\":10,\"min_border_left\":10,\"min_border_right\":10,\"min_border_top\":10,\"renderers\":[{\"id\":\"4402\"}],\"sizing_mode\":\"fixed\",\"title\":{\"id\":\"4368\"},\"toolbar\":{\"id\":\"4389\"},\"width\":700,\"x_range\":{\"id\":\"4364\"},\"x_scale\":{\"id\":\"4372\"},\"y_range\":{\"id\":\"4365\"},\"y_scale\":{\"id\":\"4374\"}},\"id\":\"4367\",\"subtype\":\"Figure\",\"type\":\"Plot\"},{\"attributes\":{\"fill_color\":{\"value\":\"#30a2da\"},\"hatch_color\":{\"value\":\"#30a2da\"},\"top\":{\"field\":\"housing_units\"},\"width\":{\"value\":0.8},\"x\":{\"field\":\"year\"}},\"id\":\"4399\",\"type\":\"VBar\"},{\"attributes\":{\"axis\":{\"id\":\"4379\"},\"coordinates\":null,\"dimension\":1,\"grid_line_color\":null,\"group\":null,\"ticker\":null},\"id\":\"4382\",\"type\":\"Grid\"},{\"attributes\":{},\"id\":\"4420\",\"type\":\"UnionRenderers\"},{\"attributes\":{\"axis\":{\"id\":\"4376\"},\"coordinates\":null,\"grid_line_color\":null,\"group\":null,\"ticker\":null},\"id\":\"4378\",\"type\":\"Grid\"},{\"attributes\":{},\"id\":\"4385\",\"type\":\"WheelZoomTool\"},{\"attributes\":{\"coordinates\":null,\"data_source\":{\"id\":\"4396\"},\"glyph\":{\"id\":\"4399\"},\"group\":null,\"hover_glyph\":null,\"muted_glyph\":{\"id\":\"4401\"},\"nonselection_glyph\":{\"id\":\"4400\"},\"selection_glyph\":{\"id\":\"4404\"},\"view\":{\"id\":\"4403\"}},\"id\":\"4402\",\"type\":\"GlyphRenderer\"},{\"attributes\":{},\"id\":\"4384\",\"type\":\"PanTool\"},{\"attributes\":{\"axis_label\":\"Housing Units\",\"coordinates\":null,\"formatter\":{\"id\":\"4405\"},\"group\":null,\"major_label_policy\":{\"id\":\"4411\"},\"ticker\":{\"id\":\"4380\"}},\"id\":\"4379\",\"type\":\"LinearAxis\"},{\"attributes\":{\"fill_alpha\":{\"value\":0.2},\"fill_color\":{\"value\":\"#30a2da\"},\"hatch_alpha\":{\"value\":0.2},\"hatch_color\":{\"value\":\"#30a2da\"},\"line_alpha\":{\"value\":0.2},\"top\":{\"field\":\"housing_units\"},\"width\":{\"value\":0.8},\"x\":{\"field\":\"year\"}},\"id\":\"4401\",\"type\":\"VBar\"},{\"attributes\":{\"margin\":[5,5,5,5],\"name\":\"HSpacer09646\",\"sizing_mode\":\"stretch_width\"},\"id\":\"4432\",\"type\":\"Spacer\"},{\"attributes\":{},\"id\":\"4383\",\"type\":\"SaveTool\"},{\"attributes\":{},\"id\":\"4380\",\"type\":\"BasicTicker\"},{\"attributes\":{},\"id\":\"4408\",\"type\":\"AllLabels\"},{\"attributes\":{},\"id\":\"4411\",\"type\":\"AllLabels\"},{\"attributes\":{\"format\":\"%f\"},\"id\":\"4405\",\"type\":\"PrintfTickFormatter\"},{\"attributes\":{\"overlay\":{\"id\":\"4388\"}},\"id\":\"4386\",\"type\":\"BoxZoomTool\"},{\"attributes\":{},\"id\":\"4387\",\"type\":\"ResetTool\"},{\"attributes\":{\"bottom_units\":\"screen\",\"coordinates\":null,\"fill_alpha\":0.5,\"fill_color\":\"lightgrey\",\"group\":null,\"left_units\":\"screen\",\"level\":\"overlay\",\"line_alpha\":1.0,\"line_color\":\"black\",\"line_dash\":[4,4],\"line_width\":2,\"right_units\":\"screen\",\"syncable\":false,\"top_units\":\"screen\"},\"id\":\"4388\",\"type\":\"BoxAnnotation\"},{\"attributes\":{},\"id\":\"4397\",\"type\":\"Selection\"},{\"attributes\":{},\"id\":\"4374\",\"type\":\"LinearScale\"},{\"attributes\":{\"margin\":[5,5,5,5],\"name\":\"HSpacer09645\",\"sizing_mode\":\"stretch_width\"},\"id\":\"4363\",\"type\":\"Spacer\"},{\"attributes\":{},\"id\":\"4407\",\"type\":\"CategoricalTickFormatter\"},{\"attributes\":{\"fill_alpha\":{\"value\":0.1},\"fill_color\":{\"value\":\"#30a2da\"},\"hatch_alpha\":{\"value\":0.1},\"hatch_color\":{\"value\":\"#30a2da\"},\"line_alpha\":{\"value\":0.1},\"top\":{\"field\":\"housing_units\"},\"width\":{\"value\":0.8},\"x\":{\"field\":\"year\"}},\"id\":\"4400\",\"type\":\"VBar\"},{\"attributes\":{\"tools\":[{\"id\":\"4366\"},{\"id\":\"4383\"},{\"id\":\"4384\"},{\"id\":\"4385\"},{\"id\":\"4386\"},{\"id\":\"4387\"}]},\"id\":\"4389\",\"type\":\"Toolbar\"},{\"attributes\":{\"children\":[{\"id\":\"4363\"},{\"id\":\"4367\"},{\"id\":\"4432\"}],\"margin\":[0,0,0,0],\"name\":\"Row09641\",\"tags\":[\"embedded\"]},\"id\":\"4362\",\"type\":\"Row\"},{\"attributes\":{\"data\":{\"housing_units\":{\"__ndarray__\":\"AAAAAEC9FkEAAAAArNsWQQAAAAAY+hZBAAAAAIQYF0EAAAAA8DYXQQAAAABcVRdBAAAAAMhzF0E=\",\"dtype\":\"float64\",\"order\":\"little\",\"shape\":[7]},\"year\":[\"2010\",\"2011\",\"2012\",\"2013\",\"2014\",\"2015\",\"2016\"]},\"selected\":{\"id\":\"4397\"},\"selection_policy\":{\"id\":\"4420\"}},\"id\":\"4396\",\"type\":\"ColumnDataSource\"}],\"root_ids\":[\"4362\"]},\"title\":\"Bokeh Application\",\"version\":\"2.4.2\"}};\n",
       "    var render_items = [{\"docid\":\"7445760a-054b-48df-923b-ee0a7e4230b9\",\"root_ids\":[\"4362\"],\"roots\":{\"4362\":\"a16c0fde-905e-4fa3-8ed3-6d541e43c2f8\"}}];\n",
       "    root.Bokeh.embed.embed_items_notebook(docs_json, render_items);\n",
       "  }\n",
       "  if (root.Bokeh !== undefined && root.Bokeh.Panel !== undefined) {\n",
       "    embed_document(root);\n",
       "  } else {\n",
       "    var attempts = 0;\n",
       "    var timer = setInterval(function(root) {\n",
       "      if (root.Bokeh !== undefined && root.Bokeh.Panel !== undefined) {\n",
       "        clearInterval(timer);\n",
       "        embed_document(root);\n",
       "      } else if (document.readyState == \"complete\") {\n",
       "        attempts++;\n",
       "        if (attempts > 200) {\n",
       "          clearInterval(timer);\n",
       "          console.log(\"Bokeh: ERROR: Unable to run BokehJS code because BokehJS library is missing\");\n",
       "        }\n",
       "      }\n",
       "    }, 25, root)\n",
       "  }\n",
       "})(window);</script>"
      ],
      "text/plain": [
       ":Bars   [year]   (housing_units)"
      ]
     },
     "execution_count": 40,
     "metadata": {
      "application/vnd.holoviews_exec.v0+json": {
       "id": "4362"
      }
     },
     "output_type": "execute_result"
    }
   ],
   "source": [
    "housing_units_by_year = sfo_data_df.groupby(\"year\").mean()\n",
    "\n",
    "housing_units_by_year.hvplot.bar(x=\"year\",y=\"housing_units\",\n",
    "                                 yformatter=\"%f\",\n",
    "                                 rot=45,\n",
    "                                 ylim=[360000,390000],\n",
    "                                 ylabel=\"Housing Units\",xlabel=\"Year\",\n",
    "                                 title=\"Housing Units\")"
   ]
  },
  {
   "cell_type": "markdown",
   "metadata": {},
   "source": [
    "---"
   ]
  },
  {
   "cell_type": "markdown",
   "metadata": {},
   "source": [
    "## Average Sale Prices per Square Foot"
   ]
  },
  {
   "cell_type": "code",
   "execution_count": 41,
   "metadata": {},
   "outputs": [
    {
     "data": {},
     "metadata": {},
     "output_type": "display_data"
    },
    {
     "data": {
      "application/vnd.holoviews_exec.v0+json": "",
      "text/html": [
       "<div id='4479'>\n",
       "\n",
       "\n",
       "\n",
       "\n",
       "\n",
       "  <div class=\"bk-root\" id=\"51089ff1-8452-438b-8b81-7ad470219229\" data-root-id=\"4479\"></div>\n",
       "</div>\n",
       "<script type=\"application/javascript\">(function(root) {\n",
       "  function embed_document(root) {\n",
       "    var docs_json = {\"8aa211e2-d2d0-4b17-a620-dafaf26f6ba3\":{\"defs\":[{\"extends\":null,\"module\":null,\"name\":\"ReactiveHTML1\",\"overrides\":[],\"properties\":[]},{\"extends\":null,\"module\":null,\"name\":\"FlexBox1\",\"overrides\":[],\"properties\":[{\"default\":\"flex-start\",\"kind\":null,\"name\":\"align_content\"},{\"default\":\"flex-start\",\"kind\":null,\"name\":\"align_items\"},{\"default\":\"row\",\"kind\":null,\"name\":\"flex_direction\"},{\"default\":\"wrap\",\"kind\":null,\"name\":\"flex_wrap\"},{\"default\":\"flex-start\",\"kind\":null,\"name\":\"justify_content\"}]},{\"extends\":null,\"module\":null,\"name\":\"TemplateActions1\",\"overrides\":[],\"properties\":[{\"default\":0,\"kind\":null,\"name\":\"open_modal\"},{\"default\":0,\"kind\":null,\"name\":\"close_modal\"}]},{\"extends\":null,\"module\":null,\"name\":\"MaterialTemplateActions1\",\"overrides\":[],\"properties\":[{\"default\":0,\"kind\":null,\"name\":\"open_modal\"},{\"default\":0,\"kind\":null,\"name\":\"close_modal\"}]}],\"roots\":{\"references\":[{\"attributes\":{\"children\":[{\"id\":\"4480\"},{\"id\":\"4489\"},{\"id\":\"4670\"}],\"margin\":[0,0,0,0],\"name\":\"Row09813\",\"tags\":[\"embedded\"]},\"id\":\"4479\",\"type\":\"Row\"},{\"attributes\":{\"data\":{\"Variable\":[\"sale_price_sqr_foot\",\"sale_price_sqr_foot\",\"sale_price_sqr_foot\",\"sale_price_sqr_foot\",\"sale_price_sqr_foot\",\"sale_price_sqr_foot\",\"sale_price_sqr_foot\"],\"value\":{\"__ndarray__\":\"tgKjeIIVd0Dn7CdydF51QGhijk899nhAZhKk2Jo5fkDGKCTbN2KBQPMTFqRSxINATx33UCbNhUA=\",\"dtype\":\"float64\",\"order\":\"little\",\"shape\":[7]},\"year\":[2010,2011,2012,2013,2014,2015,2016]},\"selected\":{\"id\":\"4531\"},\"selection_policy\":{\"id\":\"4544\"}},\"id\":\"4530\",\"type\":\"ColumnDataSource\"},{\"attributes\":{\"coordinates\":null,\"group\":null,\"text\":\"Price per Square Foot\",\"text_color\":\"black\",\"text_font_size\":\"12pt\"},\"id\":\"4490\",\"type\":\"Title\"},{\"attributes\":{\"line_color\":\"#30a2da\",\"line_width\":2,\"x\":{\"field\":\"year\"},\"y\":{\"field\":\"value\"}},\"id\":\"4533\",\"type\":\"Line\"},{\"attributes\":{\"line_alpha\":0.1,\"line_color\":\"#30a2da\",\"line_width\":2,\"x\":{\"field\":\"year\"},\"y\":{\"field\":\"value\"}},\"id\":\"4534\",\"type\":\"Line\"},{\"attributes\":{},\"id\":\"4544\",\"type\":\"UnionRenderers\"},{\"attributes\":{\"line_color\":\"#fc4f30\",\"line_width\":2,\"x\":{\"field\":\"year\"},\"y\":{\"field\":\"value\"}},\"id\":\"4553\",\"type\":\"Line\"},{\"attributes\":{},\"id\":\"4531\",\"type\":\"Selection\"},{\"attributes\":{},\"id\":\"4494\",\"type\":\"LinearScale\"},{\"attributes\":{\"line_alpha\":0.2,\"line_color\":\"#30a2da\",\"line_width\":2,\"x\":{\"field\":\"year\"},\"y\":{\"field\":\"value\"}},\"id\":\"4535\",\"type\":\"Line\"},{\"attributes\":{\"end\":4794.80965708199,\"reset_end\":4794.80965708199,\"reset_start\":-62.90622790188365,\"start\":-62.90622790188365,\"tags\":[[[\"value\",\"value\",null]]]},\"id\":\"4484\",\"type\":\"Range1d\"},{\"attributes\":{\"line_color\":\"#30a2da\",\"line_width\":2,\"x\":{\"field\":\"year\"},\"y\":{\"field\":\"value\"}},\"id\":\"4549\",\"type\":\"Line\"},{\"attributes\":{\"coordinates\":null,\"data_source\":{\"id\":\"4530\"},\"glyph\":{\"id\":\"4533\"},\"group\":null,\"hover_glyph\":null,\"muted_glyph\":{\"id\":\"4535\"},\"nonselection_glyph\":{\"id\":\"4534\"},\"selection_glyph\":{\"id\":\"4549\"},\"view\":{\"id\":\"4537\"}},\"id\":\"4536\",\"type\":\"GlyphRenderer\"},{\"attributes\":{\"source\":{\"id\":\"4530\"}},\"id\":\"4537\",\"type\":\"CDSView\"},{\"attributes\":{\"end\":2016.0,\"reset_end\":2016.0,\"reset_start\":2010.0,\"start\":2010.0,\"tags\":[[[\"year\",\"year\",null]]]},\"id\":\"4483\",\"type\":\"Range1d\"},{\"attributes\":{\"below\":[{\"id\":\"4498\"}],\"center\":[{\"id\":\"4501\"},{\"id\":\"4505\"}],\"height\":300,\"left\":[{\"id\":\"4502\"}],\"margin\":[5,5,5,5],\"min_border_bottom\":10,\"min_border_left\":10,\"min_border_right\":10,\"min_border_top\":10,\"renderers\":[{\"id\":\"4536\"},{\"id\":\"4556\"}],\"right\":[{\"id\":\"4547\"}],\"sizing_mode\":\"fixed\",\"title\":{\"id\":\"4490\"},\"toolbar\":{\"id\":\"4512\"},\"width\":700,\"x_range\":{\"id\":\"4483\"},\"x_scale\":{\"id\":\"4494\"},\"y_range\":{\"id\":\"4484\"},\"y_scale\":{\"id\":\"4496\"}},\"id\":\"4489\",\"subtype\":\"Figure\",\"type\":\"Plot\"},{\"attributes\":{},\"id\":\"4523\",\"type\":\"BasicTickFormatter\"},{\"attributes\":{},\"id\":\"4496\",\"type\":\"LinearScale\"},{\"attributes\":{\"click_policy\":\"mute\",\"coordinates\":null,\"group\":null,\"items\":[{\"id\":\"4548\"},{\"id\":\"4569\"}],\"location\":[0,0],\"title\":\"Variable\"},\"id\":\"4547\",\"type\":\"Legend\"},{\"attributes\":{\"callback\":null,\"renderers\":[{\"id\":\"4536\"},{\"id\":\"4556\"}],\"tags\":[\"hv_created\"],\"tooltips\":[[\"Variable\",\"@{Variable}\"],[\"year\",\"@{year}\"],[\"value\",\"@{value}\"]]},\"id\":\"4485\",\"type\":\"HoverTool\"},{\"attributes\":{\"tools\":[{\"id\":\"4485\"},{\"id\":\"4506\"},{\"id\":\"4507\"},{\"id\":\"4508\"},{\"id\":\"4509\"},{\"id\":\"4510\"}]},\"id\":\"4512\",\"type\":\"Toolbar\"},{\"attributes\":{\"label\":{\"value\":\"sale_price_sqr_foot\"},\"renderers\":[{\"id\":\"4536\"}]},\"id\":\"4548\",\"type\":\"LegendItem\"},{\"attributes\":{\"axis_label\":\"Year\",\"coordinates\":null,\"formatter\":{\"id\":\"4523\"},\"group\":null,\"major_label_policy\":{\"id\":\"4524\"},\"ticker\":{\"id\":\"4499\"}},\"id\":\"4498\",\"type\":\"LinearAxis\"},{\"attributes\":{},\"id\":\"4551\",\"type\":\"Selection\"},{\"attributes\":{\"data\":{\"Variable\":[\"gross_rent\",\"gross_rent\",\"gross_rent\",\"gross_rent\",\"gross_rent\",\"gross_rent\",\"gross_rent\"],\"value\":{\"__ndarray__\":\"AAAAAABck0AAAAAAAOiXQAAAAAAAKKJAAAAAAAA2p0AAAAAAAJCrQAAAAAAANq1AAAAAAAAmsUA=\",\"dtype\":\"float64\",\"order\":\"little\",\"shape\":[7]},\"year\":[2010,2011,2012,2013,2014,2015,2016]},\"selected\":{\"id\":\"4551\"},\"selection_policy\":{\"id\":\"4566\"}},\"id\":\"4550\",\"type\":\"ColumnDataSource\"},{\"attributes\":{\"axis\":{\"id\":\"4498\"},\"coordinates\":null,\"grid_line_color\":null,\"group\":null,\"ticker\":null},\"id\":\"4501\",\"type\":\"Grid\"},{\"attributes\":{\"line_color\":\"#fc4f30\",\"line_width\":2,\"x\":{\"field\":\"year\"},\"y\":{\"field\":\"value\"}},\"id\":\"4570\",\"type\":\"Line\"},{\"attributes\":{\"line_alpha\":0.1,\"line_color\":\"#fc4f30\",\"line_width\":2,\"x\":{\"field\":\"year\"},\"y\":{\"field\":\"value\"}},\"id\":\"4554\",\"type\":\"Line\"},{\"attributes\":{\"coordinates\":null,\"data_source\":{\"id\":\"4550\"},\"glyph\":{\"id\":\"4553\"},\"group\":null,\"hover_glyph\":null,\"muted_glyph\":{\"id\":\"4555\"},\"nonselection_glyph\":{\"id\":\"4554\"},\"selection_glyph\":{\"id\":\"4570\"},\"view\":{\"id\":\"4557\"}},\"id\":\"4556\",\"type\":\"GlyphRenderer\"},{\"attributes\":{\"source\":{\"id\":\"4550\"}},\"id\":\"4557\",\"type\":\"CDSView\"},{\"attributes\":{\"axis_label\":\"$ Amount\",\"coordinates\":null,\"formatter\":{\"id\":\"4521\"},\"group\":null,\"major_label_policy\":{\"id\":\"4527\"},\"ticker\":{\"id\":\"4503\"}},\"id\":\"4502\",\"type\":\"LinearAxis\"},{\"attributes\":{},\"id\":\"4527\",\"type\":\"AllLabels\"},{\"attributes\":{\"margin\":[5,5,5,5],\"name\":\"HSpacer09818\",\"sizing_mode\":\"stretch_width\"},\"id\":\"4670\",\"type\":\"Spacer\"},{\"attributes\":{},\"id\":\"4507\",\"type\":\"PanTool\"},{\"attributes\":{\"format\":\"%f\"},\"id\":\"4521\",\"type\":\"PrintfTickFormatter\"},{\"attributes\":{\"line_alpha\":0.2,\"line_color\":\"#fc4f30\",\"line_width\":2,\"x\":{\"field\":\"year\"},\"y\":{\"field\":\"value\"}},\"id\":\"4555\",\"type\":\"Line\"},{\"attributes\":{},\"id\":\"4508\",\"type\":\"WheelZoomTool\"},{\"attributes\":{\"margin\":[5,5,5,5],\"name\":\"HSpacer09817\",\"sizing_mode\":\"stretch_width\"},\"id\":\"4480\",\"type\":\"Spacer\"},{\"attributes\":{\"label\":{\"value\":\"gross_rent\"},\"renderers\":[{\"id\":\"4556\"}]},\"id\":\"4569\",\"type\":\"LegendItem\"},{\"attributes\":{},\"id\":\"4499\",\"type\":\"BasicTicker\"},{\"attributes\":{},\"id\":\"4503\",\"type\":\"BasicTicker\"},{\"attributes\":{},\"id\":\"4524\",\"type\":\"AllLabels\"},{\"attributes\":{\"axis\":{\"id\":\"4502\"},\"coordinates\":null,\"dimension\":1,\"grid_line_color\":null,\"group\":null,\"ticker\":null},\"id\":\"4505\",\"type\":\"Grid\"},{\"attributes\":{},\"id\":\"4566\",\"type\":\"UnionRenderers\"},{\"attributes\":{},\"id\":\"4506\",\"type\":\"SaveTool\"},{\"attributes\":{\"overlay\":{\"id\":\"4511\"}},\"id\":\"4509\",\"type\":\"BoxZoomTool\"},{\"attributes\":{},\"id\":\"4510\",\"type\":\"ResetTool\"},{\"attributes\":{\"bottom_units\":\"screen\",\"coordinates\":null,\"fill_alpha\":0.5,\"fill_color\":\"lightgrey\",\"group\":null,\"left_units\":\"screen\",\"level\":\"overlay\",\"line_alpha\":1.0,\"line_color\":\"black\",\"line_dash\":[4,4],\"line_width\":2,\"right_units\":\"screen\",\"syncable\":false,\"top_units\":\"screen\"},\"id\":\"4511\",\"type\":\"BoxAnnotation\"}],\"root_ids\":[\"4479\"]},\"title\":\"Bokeh Application\",\"version\":\"2.4.2\"}};\n",
       "    var render_items = [{\"docid\":\"8aa211e2-d2d0-4b17-a620-dafaf26f6ba3\",\"root_ids\":[\"4479\"],\"roots\":{\"4479\":\"51089ff1-8452-438b-8b81-7ad470219229\"}}];\n",
       "    root.Bokeh.embed.embed_items_notebook(docs_json, render_items);\n",
       "  }\n",
       "  if (root.Bokeh !== undefined && root.Bokeh.Panel !== undefined) {\n",
       "    embed_document(root);\n",
       "  } else {\n",
       "    var attempts = 0;\n",
       "    var timer = setInterval(function(root) {\n",
       "      if (root.Bokeh !== undefined && root.Bokeh.Panel !== undefined) {\n",
       "        clearInterval(timer);\n",
       "        embed_document(root);\n",
       "      } else if (document.readyState == \"complete\") {\n",
       "        attempts++;\n",
       "        if (attempts > 200) {\n",
       "          clearInterval(timer);\n",
       "          console.log(\"Bokeh: ERROR: Unable to run BokehJS code because BokehJS library is missing\");\n",
       "        }\n",
       "      }\n",
       "    }, 25, root)\n",
       "  }\n",
       "})(window);</script>"
      ],
      "text/plain": [
       ":NdOverlay   [Variable]\n",
       "   :Curve   [year]   (value)"
      ]
     },
     "execution_count": 41,
     "metadata": {
      "application/vnd.holoviews_exec.v0+json": {
       "id": "4479"
      }
     },
     "output_type": "execute_result"
    }
   ],
   "source": [
    "prices_square_foot_by_year = sfo_data_df.groupby(\"year\").mean().drop(columns=[\"housing_units\"])\n",
    "prices_square_foot_by_year.hvplot.line(yformatter=\"%f\",\n",
    "                                       ylabel=\"$ Amount\",xlabel=\"Year\",\n",
    "                                       title=\"Price per Square Foot\")\n"
   ]
  },
  {
   "cell_type": "markdown",
   "metadata": {},
   "source": [
    "---"
   ]
  },
  {
   "cell_type": "markdown",
   "metadata": {},
   "source": [
    "## Average Sale Prices by Neighborhood"
   ]
  },
  {
   "cell_type": "code",
   "execution_count": 42,
   "metadata": {},
   "outputs": [
    {
     "data": {},
     "metadata": {},
     "output_type": "display_data"
    },
    {
     "data": {
      "application/vnd.holoviews_exec.v0+json": "",
      "text/html": [
       "<div id='4727'>\n",
       "\n",
       "\n",
       "\n",
       "\n",
       "\n",
       "  <div class=\"bk-root\" id=\"720fd085-3ba8-4b6f-bd13-899eea4e44d7\" data-root-id=\"4727\"></div>\n",
       "</div>\n",
       "<script type=\"application/javascript\">(function(root) {\n",
       "  function embed_document(root) {\n",
       "    var docs_json = {\"b9e80d82-5fed-417b-a27e-7088ff34446e\":{\"defs\":[{\"extends\":null,\"module\":null,\"name\":\"ReactiveHTML1\",\"overrides\":[],\"properties\":[]},{\"extends\":null,\"module\":null,\"name\":\"FlexBox1\",\"overrides\":[],\"properties\":[{\"default\":\"flex-start\",\"kind\":null,\"name\":\"align_content\"},{\"default\":\"flex-start\",\"kind\":null,\"name\":\"align_items\"},{\"default\":\"row\",\"kind\":null,\"name\":\"flex_direction\"},{\"default\":\"wrap\",\"kind\":null,\"name\":\"flex_wrap\"},{\"default\":\"flex-start\",\"kind\":null,\"name\":\"justify_content\"}]},{\"extends\":null,\"module\":null,\"name\":\"TemplateActions1\",\"overrides\":[],\"properties\":[{\"default\":0,\"kind\":null,\"name\":\"open_modal\"},{\"default\":0,\"kind\":null,\"name\":\"close_modal\"}]},{\"extends\":null,\"module\":null,\"name\":\"MaterialTemplateActions1\",\"overrides\":[],\"properties\":[{\"default\":0,\"kind\":null,\"name\":\"open_modal\"},{\"default\":0,\"kind\":null,\"name\":\"close_modal\"}]}],\"roots\":{\"references\":[{\"attributes\":{\"children\":[{\"id\":\"4936\"},{\"id\":\"4937\"},{\"id\":\"4939\"}],\"margin\":[0,0,0,0],\"name\":\"Column10193\"},\"id\":\"4935\",\"type\":\"Column\"},{\"attributes\":{\"margin\":[5,5,5,5],\"name\":\"VSpacer10191\",\"sizing_mode\":\"stretch_height\"},\"id\":\"4936\",\"type\":\"Spacer\"},{\"attributes\":{\"coordinates\":null,\"group\":null,\"text\":\"neighborhood: Alamo Square\",\"text_color\":\"black\",\"text_font_size\":\"12pt\"},\"id\":\"4738\",\"type\":\"Title\"},{\"attributes\":{\"bottom_units\":\"screen\",\"coordinates\":null,\"fill_alpha\":0.5,\"fill_color\":\"lightgrey\",\"group\":null,\"left_units\":\"screen\",\"level\":\"overlay\",\"line_alpha\":1.0,\"line_color\":\"black\",\"line_dash\":[4,4],\"line_width\":2,\"right_units\":\"screen\",\"syncable\":false,\"top_units\":\"screen\"},\"id\":\"4759\",\"type\":\"BoxAnnotation\"},{\"attributes\":{},\"id\":\"4813\",\"type\":\"UnionRenderers\"},{\"attributes\":{\"margin\":[5,5,5,5],\"name\":\"HSpacer10195\",\"sizing_mode\":\"stretch_width\"},\"id\":\"4934\",\"type\":\"Spacer\"},{\"attributes\":{},\"id\":\"4754\",\"type\":\"SaveTool\"},{\"attributes\":{},\"id\":\"4797\",\"type\":\"Selection\"},{\"attributes\":{\"label\":{\"value\":\"gross_rent\"},\"renderers\":[{\"id\":\"4802\"}]},\"id\":\"4816\",\"type\":\"LegendItem\"},{\"attributes\":{\"coordinates\":null,\"data_source\":{\"id\":\"4775\"},\"glyph\":{\"id\":\"4778\"},\"group\":null,\"hover_glyph\":null,\"muted_glyph\":{\"id\":\"4780\"},\"nonselection_glyph\":{\"id\":\"4779\"},\"selection_glyph\":{\"id\":\"4795\"},\"view\":{\"id\":\"4782\"}},\"id\":\"4781\",\"type\":\"GlyphRenderer\"},{\"attributes\":{},\"id\":\"4770\",\"type\":\"BasicTickFormatter\"},{\"attributes\":{\"data\":{\"Variable\":[\"gross_rent\",\"gross_rent\",\"gross_rent\",\"gross_rent\",\"gross_rent\",\"gross_rent\",\"gross_rent\"],\"value\":{\"__ndarray__\":\"AAAAAABck0AAAAAAAOiXQAAAAAAAKKJAAAAAAAA2p0AAAAAAAJCrQAAAAAAANq1AAAAAAAAmsUA=\",\"dtype\":\"float64\",\"order\":\"little\",\"shape\":[7]},\"year\":[2010,2011,2012,2013,2014,2015,2016]},\"selected\":{\"id\":\"4797\"},\"selection_policy\":{\"id\":\"4813\"}},\"id\":\"4796\",\"type\":\"ColumnDataSource\"},{\"attributes\":{\"children\":[{\"id\":\"4938\"}],\"css_classes\":[\"panel-widget-box\"],\"margin\":[5,5,5,5],\"name\":\"WidgetBox10186\"},\"id\":\"4937\",\"type\":\"Column\"},{\"attributes\":{\"overlay\":{\"id\":\"4759\"}},\"id\":\"4757\",\"type\":\"BoxZoomTool\"},{\"attributes\":{},\"id\":\"4771\",\"type\":\"AllLabels\"},{\"attributes\":{},\"id\":\"4742\",\"type\":\"LinearScale\"},{\"attributes\":{\"end\":4810.690068306854,\"reset_end\":4810.690068306854,\"reset_start\":-237.59075137539725,\"start\":-237.59075137539725,\"tags\":[[[\"value\",\"value\",null]]]},\"id\":\"4732\",\"type\":\"Range1d\"},{\"attributes\":{\"margin\":[5,5,5,5],\"name\":\"HSpacer10194\",\"sizing_mode\":\"stretch_width\"},\"id\":\"4728\",\"type\":\"Spacer\"},{\"attributes\":{},\"id\":\"4790\",\"type\":\"UnionRenderers\"},{\"attributes\":{\"below\":[{\"id\":\"4746\"}],\"center\":[{\"id\":\"4749\"},{\"id\":\"4753\"}],\"height\":300,\"left\":[{\"id\":\"4750\"}],\"margin\":[5,5,5,5],\"min_border_bottom\":10,\"min_border_left\":10,\"min_border_right\":10,\"min_border_top\":10,\"renderers\":[{\"id\":\"4781\"},{\"id\":\"4802\"}],\"right\":[{\"id\":\"4793\"}],\"sizing_mode\":\"fixed\",\"title\":{\"id\":\"4738\"},\"toolbar\":{\"id\":\"4760\"},\"width\":700,\"x_range\":{\"id\":\"4731\"},\"x_scale\":{\"id\":\"4742\"},\"y_range\":{\"id\":\"4732\"},\"y_scale\":{\"id\":\"4744\"}},\"id\":\"4737\",\"subtype\":\"Figure\",\"type\":\"Plot\"},{\"attributes\":{\"axis\":{\"id\":\"4746\"},\"coordinates\":null,\"grid_line_color\":null,\"group\":null,\"ticker\":null},\"id\":\"4749\",\"type\":\"Grid\"},{\"attributes\":{},\"id\":\"4744\",\"type\":\"LinearScale\"},{\"attributes\":{\"tools\":[{\"id\":\"4733\"},{\"id\":\"4754\"},{\"id\":\"4755\"},{\"id\":\"4756\"},{\"id\":\"4757\"},{\"id\":\"4758\"}]},\"id\":\"4760\",\"type\":\"Toolbar\"},{\"attributes\":{\"end\":2016.0,\"reset_end\":2016.0,\"reset_start\":2010.0,\"start\":2010.0,\"tags\":[[[\"year\",\"year\",null]]]},\"id\":\"4731\",\"type\":\"Range1d\"},{\"attributes\":{\"children\":[{\"id\":\"4728\"},{\"id\":\"4737\"},{\"id\":\"4934\"},{\"id\":\"4935\"}],\"margin\":[0,0,0,0],\"name\":\"Row10185\"},\"id\":\"4727\",\"type\":\"Row\"},{\"attributes\":{\"callback\":null,\"renderers\":[{\"id\":\"4781\"},{\"id\":\"4802\"}],\"tags\":[\"hv_created\"],\"tooltips\":[[\"Variable\",\"@{Variable}\"],[\"year\",\"@{year}\"],[\"value\",\"@{value}\"]]},\"id\":\"4733\",\"type\":\"HoverTool\"},{\"attributes\":{\"axis_label\":\"Year\",\"coordinates\":null,\"formatter\":{\"id\":\"4770\"},\"group\":null,\"major_label_policy\":{\"id\":\"4771\"},\"ticker\":{\"id\":\"4747\"}},\"id\":\"4746\",\"type\":\"LinearAxis\"},{\"attributes\":{\"margin\":[20,20,20,20],\"min_width\":250,\"options\":[\"Alamo Square\",\"Anza Vista\",\"Bayview\",\"Buena Vista Park\",\"Central Richmond\",\"Central Sunset\",\"Corona Heights\",\"Cow Hollow\",\"Croker Amazon\",\"Diamond Heights\",\"Downtown \",\"Eureka Valley/Dolores Heights\",\"Excelsior\",\"Financial District North\",\"Financial District South\",\"Forest Knolls\",\"Glen Park\",\"Golden Gate Heights\",\"Haight Ashbury\",\"Hayes Valley\",\"Hunters Point\",\"Ingleside \",\"Inner Mission\",\"Inner Parkside\",\"Inner Richmond\",\"Inner Sunset\",\"Jordan Park/Laurel Heights\",\"Lake --The Presidio\",\"Lone Mountain\",\"Lower Pacific Heights\",\"Marina\",\"Miraloma Park\",\"Mission Bay\",\"Mission Dolores\",\"Mission Terrace\",\"Nob Hill\",\"Noe Valley\",\"Oceanview\",\"Outer Parkside\",\"Outer Richmond \",\"Outer Sunset\",\"Pacific Heights\",\"Park North\",\"Parkside\",\"Parnassus/Ashbury Heights\",\"Portola\",\"Potrero Hill\",\"Presidio Heights\",\"Russian Hill\",\"South Beach\",\"South of Market\",\"Sunnyside\",\"Telegraph Hill\",\"Twin Peaks\",\"Union Square District\",\"Van Ness/ Civic Center\",\"West Portal\",\"Western Addition\",\"Yerba Buena\",\"Bernal Heights \",\"Clarendon Heights\",\"Duboce Triangle\",\"Ingleside Heights\",\"North Beach\",\"North Waterfront\",\"Outer Mission\",\"Westwood Highlands\",\"Merced Heights\",\"Midtown Terrace\",\"Visitacion Valley\",\"Silver Terrace\",\"Westwood Park\",\"Bayview Heights\"],\"title\":\"neighborhood\",\"value\":\"Alamo Square\",\"width\":250},\"id\":\"4938\",\"type\":\"Select\"},{\"attributes\":{\"line_color\":\"#30a2da\",\"line_width\":2,\"x\":{\"field\":\"year\"},\"y\":{\"field\":\"value\"}},\"id\":\"4795\",\"type\":\"Line\"},{\"attributes\":{\"client_comm_id\":\"45d79ceb11704ac9837113d2eb667d38\",\"comm_id\":\"4dca4f54b27447e9bb90642b4068719d\",\"plot_id\":\"4727\"},\"id\":\"4976\",\"type\":\"panel.models.comm_manager.CommManager\"},{\"attributes\":{},\"id\":\"4773\",\"type\":\"BasicTickFormatter\"},{\"attributes\":{\"source\":{\"id\":\"4775\"}},\"id\":\"4782\",\"type\":\"CDSView\"},{\"attributes\":{\"click_policy\":\"mute\",\"coordinates\":null,\"group\":null,\"items\":[{\"id\":\"4794\"},{\"id\":\"4816\"}],\"location\":[0,0],\"title\":\"Variable\"},\"id\":\"4793\",\"type\":\"Legend\"},{\"attributes\":{\"axis_label\":\"\",\"coordinates\":null,\"formatter\":{\"id\":\"4773\"},\"group\":null,\"major_label_policy\":{\"id\":\"4774\"},\"ticker\":{\"id\":\"4751\"}},\"id\":\"4750\",\"type\":\"LinearAxis\"},{\"attributes\":{\"line_alpha\":0.2,\"line_color\":\"#30a2da\",\"line_width\":2,\"x\":{\"field\":\"year\"},\"y\":{\"field\":\"value\"}},\"id\":\"4780\",\"type\":\"Line\"},{\"attributes\":{},\"id\":\"4755\",\"type\":\"PanTool\"},{\"attributes\":{\"margin\":[5,5,5,5],\"name\":\"VSpacer10192\",\"sizing_mode\":\"stretch_height\"},\"id\":\"4939\",\"type\":\"Spacer\"},{\"attributes\":{},\"id\":\"4756\",\"type\":\"WheelZoomTool\"},{\"attributes\":{\"data\":{\"Variable\":[\"sale_price_sqr_foot\",\"sale_price_sqr_foot\",\"sale_price_sqr_foot\",\"sale_price_sqr_foot\",\"sale_price_sqr_foot\",\"sale_price_sqr_foot\",\"sale_price_sqr_foot\"],\"value\":{\"__ndarray__\":\"DUc7WO0yckCafszcbwhxQIKRs5ot42ZAKDog0LQ8eEAVMinKGEd+QI4V5FDt0IJAVCHcmLVPdUA=\",\"dtype\":\"float64\",\"order\":\"little\",\"shape\":[7]},\"year\":[2010,2011,2012,2013,2014,2015,2016]},\"selected\":{\"id\":\"4776\"},\"selection_policy\":{\"id\":\"4790\"}},\"id\":\"4775\",\"type\":\"ColumnDataSource\"},{\"attributes\":{\"source\":{\"id\":\"4796\"}},\"id\":\"4803\",\"type\":\"CDSView\"},{\"attributes\":{},\"id\":\"4747\",\"type\":\"BasicTicker\"},{\"attributes\":{},\"id\":\"4774\",\"type\":\"AllLabels\"},{\"attributes\":{\"line_color\":\"#fc4f30\",\"line_width\":2,\"x\":{\"field\":\"year\"},\"y\":{\"field\":\"value\"}},\"id\":\"4799\",\"type\":\"Line\"},{\"attributes\":{},\"id\":\"4751\",\"type\":\"BasicTicker\"},{\"attributes\":{\"line_color\":\"#fc4f30\",\"line_width\":2,\"x\":{\"field\":\"year\"},\"y\":{\"field\":\"value\"}},\"id\":\"4817\",\"type\":\"Line\"},{\"attributes\":{\"line_alpha\":0.1,\"line_color\":\"#30a2da\",\"line_width\":2,\"x\":{\"field\":\"year\"},\"y\":{\"field\":\"value\"}},\"id\":\"4779\",\"type\":\"Line\"},{\"attributes\":{\"coordinates\":null,\"data_source\":{\"id\":\"4796\"},\"glyph\":{\"id\":\"4799\"},\"group\":null,\"hover_glyph\":null,\"muted_glyph\":{\"id\":\"4801\"},\"nonselection_glyph\":{\"id\":\"4800\"},\"selection_glyph\":{\"id\":\"4817\"},\"view\":{\"id\":\"4803\"}},\"id\":\"4802\",\"type\":\"GlyphRenderer\"},{\"attributes\":{\"axis\":{\"id\":\"4750\"},\"coordinates\":null,\"dimension\":1,\"grid_line_color\":null,\"group\":null,\"ticker\":null},\"id\":\"4753\",\"type\":\"Grid\"},{\"attributes\":{},\"id\":\"4776\",\"type\":\"Selection\"},{\"attributes\":{\"line_alpha\":0.1,\"line_color\":\"#fc4f30\",\"line_width\":2,\"x\":{\"field\":\"year\"},\"y\":{\"field\":\"value\"}},\"id\":\"4800\",\"type\":\"Line\"},{\"attributes\":{},\"id\":\"4758\",\"type\":\"ResetTool\"},{\"attributes\":{\"line_alpha\":0.2,\"line_color\":\"#fc4f30\",\"line_width\":2,\"x\":{\"field\":\"year\"},\"y\":{\"field\":\"value\"}},\"id\":\"4801\",\"type\":\"Line\"},{\"attributes\":{\"label\":{\"value\":\"sale_price_sqr_foot\"},\"renderers\":[{\"id\":\"4781\"}]},\"id\":\"4794\",\"type\":\"LegendItem\"},{\"attributes\":{\"line_color\":\"#30a2da\",\"line_width\":2,\"x\":{\"field\":\"year\"},\"y\":{\"field\":\"value\"}},\"id\":\"4778\",\"type\":\"Line\"}],\"root_ids\":[\"4727\",\"4976\"]},\"title\":\"Bokeh Application\",\"version\":\"2.4.2\"}};\n",
       "    var render_items = [{\"docid\":\"b9e80d82-5fed-417b-a27e-7088ff34446e\",\"root_ids\":[\"4727\"],\"roots\":{\"4727\":\"720fd085-3ba8-4b6f-bd13-899eea4e44d7\"}}];\n",
       "    root.Bokeh.embed.embed_items_notebook(docs_json, render_items);\n",
       "  }\n",
       "  if (root.Bokeh !== undefined && root.Bokeh.Panel !== undefined) {\n",
       "    embed_document(root);\n",
       "  } else {\n",
       "    var attempts = 0;\n",
       "    var timer = setInterval(function(root) {\n",
       "      if (root.Bokeh !== undefined && root.Bokeh.Panel !== undefined) {\n",
       "        clearInterval(timer);\n",
       "        embed_document(root);\n",
       "      } else if (document.readyState == \"complete\") {\n",
       "        attempts++;\n",
       "        if (attempts > 200) {\n",
       "          clearInterval(timer);\n",
       "          console.log(\"Bokeh: ERROR: Unable to run BokehJS code because BokehJS library is missing\");\n",
       "        }\n",
       "      }\n",
       "    }, 25, root)\n",
       "  }\n",
       "})(window);</script>"
      ],
      "text/plain": [
       ":DynamicMap   [neighborhood]\n",
       "   :NdOverlay   [Variable]\n",
       "      :Curve   [year]   (value)"
      ]
     },
     "execution_count": 42,
     "metadata": {
      "application/vnd.holoviews_exec.v0+json": {
       "id": "4727"
      }
     },
     "output_type": "execute_result"
    }
   ],
   "source": [
    "prices_by_year_by_neighborhood = sfo_data_df.groupby([\"year\",\"neighborhood\"]).mean().drop(columns=[\"housing_units\"])\n",
    "prices_by_year_by_neighborhood.hvplot.line(groupby=\"neighborhood\",x=\"year\",\n",
    "    xlabel=\"Year\")"
   ]
  },
  {
   "cell_type": "markdown",
   "metadata": {},
   "source": [
    "---"
   ]
  },
  {
   "cell_type": "markdown",
   "metadata": {},
   "source": [
    "#### Read Neighborhood Data"
   ]
  },
  {
   "cell_type": "code",
   "execution_count": 43,
   "metadata": {},
   "outputs": [],
   "source": [
    "neighborhood_locations_df = pd.read_csv(\n",
    "    Path(\"Resources/neighborhoods_coordinates.csv\"),index_col=\"Neighborhood\"\n",
    ")        "
   ]
  },
  {
   "cell_type": "markdown",
   "metadata": {},
   "source": [
    "#### Concatenate Price and Location Info"
   ]
  },
  {
   "cell_type": "code",
   "execution_count": 44,
   "metadata": {
    "tags": []
   },
   "outputs": [],
   "source": [
    "all_neighborhood_info_df = sfo_data_df.groupby(\"neighborhood\").mean()\n",
    "\n",
    "all_neighborhoods_df = pd.concat(\n",
    "    [neighborhood_locations_df, all_neighborhood_info_df], \n",
    "    axis=\"columns\",\n",
    "    sort=False)\n",
    "\n",
    "all_neighborhoods_df=all_neighborhoods_df.dropna()\n",
    "all_neighborhoods_df[\"sale_price_sqr_foot\"]=all_neighborhoods_df[\"sale_price_sqr_foot\"].astype(float).round(2)\n",
    "all_neighborhoods_df[\"gross_rent\"]=all_neighborhoods_df[\"gross_rent\"].astype(float).round(2)\n",
    "all_neighborhoods_df[\"housing_units\"]=all_neighborhoods_df[\"housing_units\"].astype(int)\n",
    "all_neighborhoods_df[\"year\"]=all_neighborhoods_df[\"year\"].astype(int)\n",
    "all_neighborhoods_df = all_neighborhoods_df.reset_index().dropna()\n",
    "all_neighborhoods_df = all_neighborhoods_df.rename(columns={\"index\": \"Neighborhood\"})"
   ]
  },
  {
   "cell_type": "markdown",
   "metadata": {
    "tags": []
   },
   "source": [
    "## Interactive Map w/ hvPlot + GeoViews"
   ]
  },
  {
   "cell_type": "code",
   "execution_count": 45,
   "metadata": {},
   "outputs": [
    {
     "data": {},
     "metadata": {},
     "output_type": "display_data"
    },
    {
     "data": {
      "application/vnd.holoviews_exec.v0+json": "",
      "text/html": [
       "<div id='5037'>\n",
       "\n",
       "\n",
       "\n",
       "\n",
       "\n",
       "  <div class=\"bk-root\" id=\"99804886-6cfc-49bf-8cde-f1cb82e0170c\" data-root-id=\"5037\"></div>\n",
       "</div>\n",
       "<script type=\"application/javascript\">(function(root) {\n",
       "  function embed_document(root) {\n",
       "    var docs_json = {\"db1027ff-e8bf-440e-84ed-b64ecc829194\":{\"defs\":[{\"extends\":null,\"module\":null,\"name\":\"ReactiveHTML1\",\"overrides\":[],\"properties\":[]},{\"extends\":null,\"module\":null,\"name\":\"FlexBox1\",\"overrides\":[],\"properties\":[{\"default\":\"flex-start\",\"kind\":null,\"name\":\"align_content\"},{\"default\":\"flex-start\",\"kind\":null,\"name\":\"align_items\"},{\"default\":\"row\",\"kind\":null,\"name\":\"flex_direction\"},{\"default\":\"wrap\",\"kind\":null,\"name\":\"flex_wrap\"},{\"default\":\"flex-start\",\"kind\":null,\"name\":\"justify_content\"}]},{\"extends\":null,\"module\":null,\"name\":\"TemplateActions1\",\"overrides\":[],\"properties\":[{\"default\":0,\"kind\":null,\"name\":\"open_modal\"},{\"default\":0,\"kind\":null,\"name\":\"close_modal\"}]},{\"extends\":null,\"module\":null,\"name\":\"MaterialTemplateActions1\",\"overrides\":[],\"properties\":[{\"default\":0,\"kind\":null,\"name\":\"open_modal\"},{\"default\":0,\"kind\":null,\"name\":\"close_modal\"}]}],\"roots\":{\"references\":[{\"attributes\":{},\"id\":\"5068\",\"type\":\"PanTool\"},{\"attributes\":{\"dimension\":\"lon\"},\"id\":\"5083\",\"type\":\"MercatorTickFormatter\"},{\"attributes\":{\"zoom_on_axis\":false},\"id\":\"5069\",\"type\":\"WheelZoomTool\"},{\"attributes\":{\"source\":{\"id\":\"5114\"}},\"id\":\"5123\",\"type\":\"CDSView\"},{\"attributes\":{},\"id\":\"5067\",\"type\":\"SaveTool\"},{\"attributes\":{\"match_aspect\":true,\"overlay\":{\"id\":\"5072\"}},\"id\":\"5070\",\"type\":\"BoxZoomTool\"},{\"attributes\":{\"data\":{\"Lat\":{\"__ndarray__\":\"DAZSL05bUUERJz5BvFlRQRU76MWOU1FBI8JNG75SUUGFpr+KKVhRQWlQdR2AWVFBHmRUj5xVUUHwUo3KHlZRQamMnCKNWlFBwh7ofZNbUUH1Euga7VFRQYtMcTy6UlFBtgKVpV1YUUEeKP9IbVZRQSPCTRu+UlFBtiBKHU5bUUG2IEodTltRQb9yAcqiVlFBi0xxPLpSUUH2pqnHwFZRQdQYfxjDV1FB1Bh/GMNXUUEhKqF0TFJRQfKTZ2ezUVFBck/MtTxWUUEeZFSPnFVRQbcd1Q5LWFFBHmRUj5xVUUGpjJwijVpRQVISHETAXFFBcdp6raNZUUHCHuh9k1tRQUpmPd6AXFFBuyX+IIhRUUHwUo3KHlZRQXxYeXl8U1FBOpYAJTxaUUEE/sQM61VRQYtMcTy6UlFBwh7ofZNbUUHwUo3KHlZRQQfJ9hmeXFFBB8n2GZ5cUUG7Jf4giFFRQfUS6BrtUVFBVbZHH+ZVUUEeZFSPnFVRQcIe6H2TW1FBAah9cLFSUUEeZFSPnFVRQZ61yz+HV1FBFTvoxY5TUUGqKCppL1NRQamMnCKNWlFBwh7ofZNbUUEVO+jFjlNRQTqWACU8WlFBtiBKHU5bUUF8WHl5fFNRQQfJ9hmeXFFBbxiQ0x5WUUG2IEodTltRQX83Aii5WVFBI8JNG75SUUGvOKR9U1RRQcIe6H2TW1FBQfYp1I9TUUF8WHl5fFNRQcIe6H2TW1FB\",\"dtype\":\"float64\",\"order\":\"little\",\"shape\":[69]},\"Lon\":{\"__ndarray__\":\"2Xg1bjH9acE0qLjTcP9pwWIIf/Ui/WnBhWDB/qz9acEnJMx7N/9pwdoRL7+I/2nBLuMMavgBasFhguugov9pwWYMEXIfAGrBzYeGOQb/acHLaPmTLv9pwTUFRT9r/2nB7DUzh3/+acFQEfkNIv9pwYVgwf6s/WnB2Xg1bjH9acHZeDVuMf1pwf1pccgSAGrBNQVFP2v/acFOyBkLjwBqwZGBGpcI/2nBkYEalwj/acF8DJaHi/tpwVVsW8jPAWrBBt4IIiP+acEu4wxq+AFqwR1EUwafAWrBU03OIvgBasFmDBFyHwBqwcIxFowLAGrB8Jta+RAAasHNh4Y5Bv9pwYTIrvq2AGrBU0Ux5qkAasFhguugov9pwSdRSlwtAGrBWQj8QB39acFeKdIkc/5pwTUFRT9r/2nBzYeGOQb/acFhguugov9pwbG993VQ/WnBsb33dVD9acFTRTHmqQBqwcto+ZMu/2nB11zUS5T/acEu4wxq+AFqwc2HhjkG/2nBV+K4q1gBasEu4wxq+AFqwXNXvGc2AGrBYgh/9SL9acF4d6v+KvxpwWYMEXIfAGrBzYeGOQb/acFiCH/1Iv1pwVkI/EAd/WnB2Xg1bjH9acEnUUpcLQBqwbG993VQ/WnBfJRbnaL/acHZeDVuMf1pwZbRs5Et/mnBhWDB/qz9acFSr2MYjQBqwc2HhjkG/2nB0aQ0VCsAasEnUUpcLQBqwW14C4/h/GnB\",\"dtype\":\"float64\",\"order\":\"little\",\"shape\":[69]},\"Neighborhood\":[\"Alamo Square\",\"Anza Vista\",\"Bayview\",\"Bayview Heights\",\"Buena Vista Park\",\"Central Richmond\",\"Central Sunset\",\"Clarendon Heights\",\"Corona Heights\",\"Cow Hollow\",\"Croker Amazon\",\"Diamond Heights\",\"Duboce Triangle\",\"Eureka Valley/Dolores Heights\",\"Excelsior\",\"Financial District North\",\"Financial District South\",\"Forest Knolls\",\"Glen Park\",\"Golden Gate Heights\",\"Haight Ashbury\",\"Hayes Valley\",\"Hunters Point\",\"Ingleside Heights\",\"Inner Mission\",\"Inner Parkside\",\"Inner Richmond\",\"Inner Sunset\",\"Jordan Park/Laurel Heights\",\"Lake --The Presidio\",\"Lone Mountain\",\"Lower Pacific Heights\",\"Marina\",\"Merced Heights\",\"Midtown Terrace\",\"Miraloma Park\",\"Mission Bay\",\"Mission Dolores\",\"Mission Terrace\",\"Nob Hill\",\"Noe Valley\",\"North Beach\",\"North Waterfront\",\"Oceanview\",\"Outer Mission\",\"Outer Parkside\",\"Outer Sunset\",\"Pacific Heights\",\"Park North\",\"Parkside\",\"Parnassus/Ashbury Heights\",\"Portola\",\"Potrero Hill\",\"Presidio Heights\",\"Russian Hill\",\"Silver Terrace\",\"South Beach\",\"South of Market\",\"Sunnyside\",\"Telegraph Hill\",\"Twin Peaks\",\"Union Square District\",\"Van Ness/ Civic Center\",\"Visitacion Valley\",\"West Portal\",\"Western Addition\",\"Westwood Highlands\",\"Westwood Park\",\"Yerba Buena\"],\"color\":{\"__ndarray__\":\"rkfhepQCpkBcj8L1qK+nQM3MzMzMHKJAAAAAAAA2rUBcj8L1qBWlQK5H4XqUAqZArkfhepQCpkAAAAAAAJWhQAAAAAAAUKNArkfhepQCpkBcj8L1qBWlQAAAAAAAgJ9AAAAAAIC4pUCuR+F6lAKmQFyPwvWor6dArkfhepQCpkAAAAAAAFCjQAAAAAAA1ptAAAAAAACnpkDNzMzMzFKkQK5H4XqUAqZArkfhepQCpkAAAAAAAHKjQAAAAAAAIKdArkfhepQCpkAAAAAAADCpQK5H4XqUAqZArkfhepQCpkCuR+F6lAKmQKRwPQpX9qNApHA9Clf2o0CuR+F6lAKmQK5H4XqUAqZAAAAAAACsqkAAAAAAAK+kQAAAAACA1qBApHA9ClfPpECkcD0KV/ajQM3MzMzMyqhArkfhepQCpkCuR+F6lAKmQJqZmZmZXadAzczMzMwEpkAAAAAAAASjQAAAAACAZ6dArkfhepQCpkCuR+F6lAKmQK5H4XqUAqZArkfhepQCpkCkcD0KV/ajQK5H4XqUAqZAzczMzMwcokCuR+F6lAKmQK5H4XqUAqZArkfhepQCpkAAAAAAAJCrQAAAAAAAZqBArkfhepQCpkAAAAAAAKemQK5H4XqUAqZArkfhepQCpkCkcD0KV/ajQK5H4XqUAqZAAAAAAACSrEAAAAAAAKejQKRwPQpX9qNAAAAAAACVoUAAAAAAAO6uQKRwPQpX9qNA\",\"dtype\":\"float64\",\"order\":\"little\",\"shape\":[69]},\"gross_rent\":{\"__ndarray__\":\"rkfhepQCpkBcj8L1qK+nQM3MzMzMHKJAAAAAAAA2rUBcj8L1qBWlQK5H4XqUAqZArkfhepQCpkAAAAAAAJWhQAAAAAAAUKNArkfhepQCpkBcj8L1qBWlQAAAAAAAgJ9AAAAAAIC4pUCuR+F6lAKmQFyPwvWor6dArkfhepQCpkAAAAAAAFCjQAAAAAAA1ptAAAAAAACnpkDNzMzMzFKkQK5H4XqUAqZArkfhepQCpkAAAAAAAHKjQAAAAAAAIKdArkfhepQCpkAAAAAAADCpQK5H4XqUAqZArkfhepQCpkCuR+F6lAKmQKRwPQpX9qNApHA9Clf2o0CuR+F6lAKmQK5H4XqUAqZAAAAAAACsqkAAAAAAAK+kQAAAAACA1qBApHA9ClfPpECkcD0KV/ajQM3MzMzMyqhArkfhepQCpkCuR+F6lAKmQJqZmZmZXadAzczMzMwEpkAAAAAAAASjQAAAAACAZ6dArkfhepQCpkCuR+F6lAKmQK5H4XqUAqZArkfhepQCpkCkcD0KV/ajQK5H4XqUAqZAzczMzMwcokCuR+F6lAKmQK5H4XqUAqZArkfhepQCpkAAAAAAAJCrQAAAAAAAZqBArkfhepQCpkAAAAAAAKemQK5H4XqUAqZArkfhepQCpkCkcD0KV/ajQK5H4XqUAqZAAAAAAACSrEAAAAAAAKejQKRwPQpX9qNAAAAAAACVoUAAAAAAAO6uQKRwPQpX9qNA\",\"dtype\":\"float64\",\"order\":\"little\",\"shape\":[69]},\"sale_price_sqr_foot\":{\"__ndarray__\":\"uB6F61HgdkCuR+F6FFZ3QHsUrkfhkmlAuB6F61F2gkB7FK5H4Up8QB+F61G4pnhA16NwPQp7ekCkcD0K13N+QLgehetRXIJASOF6FK7PhEAAAAAAAPByQKRwPQrXL3tAmpmZmZlpf0AAAAAAABKEQLgehetRTHhA9ihcj8J1eEA9CtejcH18QD0K16NwHXRAcT0K16N+g0CF61G4HvuDQHE9CtejGHxAexSuR+E+dkCkcD0K11NlQM3MzMzMDHhAH4XrUbjaeECF61G4HjuAQD0K16NwqXdAH4XrUbjaeUDXo3A9CouAQDMzMzMzn3lASOF6FK7jfUBSuB6F69mAQAAAAAAAPoJAH4XrUbimiECuR+F6FDSBQBSuR+F6XohA7FG4HoWxgUAfhetRuC56QPYoXI/CW4BAMzMzMzOjfEDsUbgehfOAQGZmZmZmunlAuB6F61Ekf0CamZmZmaF0QKRwPQrXS25AFK5H4XpQfkDsUbgehaN4QBSuR+F6jIVASOF6FK5bd0AfhetRuAJ1QFK4HoXrxYNA9ihcj8JxdECuR+F6FLCEQM3MzMzMGoVApHA9CtcHg0DhehSuR0llQClcj8L1UIRAXI/C9SjSgUDD9Shcj4KAQK5H4XoUJIVAZmZmZmZWfUBSuB6F6z+MQGZmZmZmQnlA7FG4HoXXckCkcD0K1yd/QClcj8L1OHNAmpmZmZmtgEAfhetRuHiFQEjhehSuBYJA\",\"dtype\":\"float64\",\"order\":\"little\",\"shape\":[69]},\"size\":{\"__ndarray__\":\"or2TwrMhM0A15DD2slIzQO3sctZjmyxABRG2SmFOOECtHIAlukY1QDT9tp4p3DNAfRF1bG+VNEDyDorI0RI2QIGAmc89PThA4nsMLWPOOUBxv2pIKmgxQD1ArfA92zRAeSenrzJrNkAOOC0HuFc5QDI7fMidtzNA3Fso8mbIM0AzNHF1tFk1QIbcs0Od8DFAwCY+vQH6OEA73W/tQUk5QByn58HNMzVATnIuM7ndMkBK/tZQ0x8qQLGkVyHHnTNAy7ba8xDxM0B3llLsRco2QFa/yHcXdTNAS1qaxsBWNECBO4NJHQI3QIzmbPFJPzRAe7hlFFTeNUAMoVf1tjg3QB/VavoxKThAczjDdxcWPEAJzQfcg3Y3QGnXCe/R7DtAk/Bxj3TLN0CtXTNksHc0QN0lFbwk4TZAHp3s19VnNUCgh3jPU0o3QHrTMV4GSjRAwUi0HmxSNkDNaAzuLCsyQCKdO/LvIi9AWUWmUv0FNkAquJ+W39ozQLqLaOtsQjpAh+kzWgRVM0DS/mCVvlUyQGXTx8GBJzlAKe+cDxAWMkD3EKgdxLo5QHkKXZrM/DlA5Qul9XGtOEA+wizTWhkqQMnnaPBYfzlAmqYJFl3hN0A6gDrlNvw2QD3Gv6KCAjpAkLzbcmeqNUAt9gtTARE+QMWSp9B9GjRA5Ah7dOZcMUDDVLkJr1M2QGQIJE2SiTFA0D4cQxkaN0By/Ub0XzY6QEpXjxbJAzhA\",\"dtype\":\"float64\",\"order\":\"little\",\"shape\":[69]}},\"selected\":{\"id\":\"5115\"},\"selection_policy\":{\"id\":\"5132\"}},\"id\":\"5114\",\"type\":\"ColumnDataSource\"},{\"attributes\":{\"children\":[{\"id\":\"5038\"},{\"id\":\"5050\"},{\"id\":\"5191\"}],\"margin\":[0,0,0,0],\"name\":\"Row10866\",\"tags\":[\"embedded\"]},\"id\":\"5037\",\"type\":\"Row\"},{\"attributes\":{},\"id\":\"5071\",\"type\":\"ResetTool\"},{\"attributes\":{},\"id\":\"5130\",\"type\":\"NoOverlap\"},{\"attributes\":{\"bar_line_color\":\"black\",\"color_mapper\":{\"id\":\"5113\"},\"coordinates\":null,\"group\":null,\"label_standoff\":8,\"location\":[0,0],\"major_label_policy\":{\"id\":\"5130\"},\"major_tick_line_color\":\"black\",\"ticker\":{\"id\":\"5124\"}},\"id\":\"5125\",\"type\":\"ColorBar\"},{\"attributes\":{\"bottom_units\":\"screen\",\"coordinates\":null,\"fill_alpha\":0.5,\"fill_color\":\"lightgrey\",\"group\":null,\"left_units\":\"screen\",\"level\":\"overlay\",\"line_alpha\":1.0,\"line_color\":\"black\",\"line_dash\":[4,4],\"line_width\":2,\"right_units\":\"screen\",\"syncable\":false,\"top_units\":\"screen\"},\"id\":\"5072\",\"type\":\"BoxAnnotation\"},{\"attributes\":{\"coordinates\":null,\"data_source\":{\"id\":\"5114\"},\"glyph\":{\"id\":\"5117\"},\"group\":null,\"hover_glyph\":{\"id\":\"5120\"},\"muted_glyph\":{\"id\":\"5121\"},\"nonselection_glyph\":{\"id\":\"5118\"},\"selection_glyph\":{\"id\":\"5119\"},\"view\":{\"id\":\"5123\"}},\"id\":\"5122\",\"type\":\"GlyphRenderer\"},{\"attributes\":{\"fill_alpha\":{\"value\":0.1},\"fill_color\":{\"field\":\"color\",\"transform\":{\"id\":\"5113\"}},\"hatch_alpha\":{\"value\":0.1},\"hatch_color\":{\"field\":\"color\",\"transform\":{\"id\":\"5113\"}},\"line_alpha\":{\"value\":0.1},\"line_color\":{\"field\":\"color\",\"transform\":{\"id\":\"5113\"}},\"size\":{\"field\":\"size\"},\"x\":{\"field\":\"Lon\"},\"y\":{\"field\":\"Lat\"}},\"id\":\"5118\",\"type\":\"Scatter\"},{\"attributes\":{\"fill_color\":{\"field\":\"color\",\"transform\":{\"id\":\"5113\"}},\"hatch_color\":{\"field\":\"color\",\"transform\":{\"id\":\"5113\"}},\"line_color\":{\"field\":\"color\",\"transform\":{\"id\":\"5113\"}},\"size\":{\"field\":\"size\"},\"x\":{\"field\":\"Lon\"},\"y\":{\"field\":\"Lat\"}},\"id\":\"5117\",\"type\":\"Scatter\"},{\"attributes\":{\"end\":4552573.750035822,\"min_interval\":5,\"reset_end\":4552573.750035822,\"reset_start\":4538787.829534142,\"start\":4538787.829534142,\"tags\":[[[\"Lat\",\"Lat\",null]]]},\"id\":\"5044\",\"type\":\"Range1d\"},{\"attributes\":{},\"id\":\"5088\",\"type\":\"AllLabels\"},{\"attributes\":{},\"id\":\"5055\",\"type\":\"LinearScale\"},{\"attributes\":{\"fill_color\":{\"field\":\"color\",\"transform\":{\"id\":\"5113\"}},\"hatch_color\":{\"field\":\"color\",\"transform\":{\"id\":\"5113\"}},\"line_color\":{\"field\":\"color\",\"transform\":{\"id\":\"5113\"}},\"size\":{\"field\":\"size\"},\"x\":{\"field\":\"Lon\"},\"y\":{\"field\":\"Lat\"}},\"id\":\"5120\",\"type\":\"Scatter\"},{\"attributes\":{},\"id\":\"5095\",\"type\":\"AllLabels\"},{\"attributes\":{},\"id\":\"5057\",\"type\":\"LinearScale\"},{\"attributes\":{\"dimension\":\"lat\"},\"id\":\"5084\",\"type\":\"MercatorTicker\"},{\"attributes\":{\"margin\":[5,5,5,5],\"name\":\"HSpacer10871\",\"sizing_mode\":\"stretch_width\"},\"id\":\"5191\",\"type\":\"Spacer\"},{\"attributes\":{\"high\":3959.0,\"low\":1781.5,\"palette\":[\"#b3fef5\",\"#b0fef5\",\"#adfdf5\",\"#a9fcf5\",\"#a6fbf6\",\"#a3faf6\",\"#a0faf6\",\"#9df9f6\",\"#9af8f6\",\"#97f7f6\",\"#93f7f6\",\"#90f6f6\",\"#8df5f6\",\"#8af4f7\",\"#87f3f7\",\"#83f2f7\",\"#80f2f7\",\"#7df1f7\",\"#79f0f7\",\"#76eff7\",\"#73eef7\",\"#6fedf8\",\"#6cecf8\",\"#68ecf8\",\"#65ebf8\",\"#61eaf8\",\"#5ee9f8\",\"#5ae8f8\",\"#57e7f8\",\"#53e6f8\",\"#50e5f9\",\"#4ce4f9\",\"#49e3f9\",\"#45e2f9\",\"#42e1f9\",\"#3ee0f9\",\"#3bdff9\",\"#38def9\",\"#35ddf9\",\"#32dcf9\",\"#30dbfa\",\"#2ed9fa\",\"#2dd8fa\",\"#2cd7fa\",\"#2bd6fa\",\"#2bd5fa\",\"#2ad3fa\",\"#2ad2fa\",\"#29d1fa\",\"#29d0fb\",\"#29cffb\",\"#28cdfb\",\"#28ccfb\",\"#28cbfb\",\"#28cafb\",\"#28c8fb\",\"#28c7fb\",\"#29c6fb\",\"#29c5fb\",\"#29c4fb\",\"#29c2fb\",\"#2ac1fb\",\"#2ac0fb\",\"#2bbffb\",\"#2bbdfc\",\"#2cbcfc\",\"#2dbbfc\",\"#2db9fc\",\"#2eb8fc\",\"#2fb7fc\",\"#2fb6fc\",\"#30b4fc\",\"#31b3fc\",\"#32b2fc\",\"#32b0fc\",\"#33affc\",\"#33aefc\",\"#34adfc\",\"#34abfc\",\"#34aafc\",\"#35a9fc\",\"#35a8fc\",\"#35a6fc\",\"#35a5fc\",\"#35a4fc\",\"#35a3fc\",\"#35a1fc\",\"#35a0fc\",\"#359ffc\",\"#359dfc\",\"#359cfc\",\"#359bfc\",\"#349afd\",\"#3498fd\",\"#3497fd\",\"#3396fd\",\"#3395fd\",\"#3293fd\",\"#3292fd\",\"#3191fd\",\"#3090fd\",\"#308ffd\",\"#2f8dfd\",\"#2f8cfd\",\"#2e8bfd\",\"#2e8afd\",\"#2d88fd\",\"#2d87fd\",\"#2c86fd\",\"#2c84fd\",\"#2c83fd\",\"#2c82fd\",\"#2b81fd\",\"#2b7ffd\",\"#2b7efd\",\"#2b7dfd\",\"#2b7bfd\",\"#2b7afd\",\"#2b79fd\",\"#2b77fd\",\"#2b76fd\",\"#2b75fd\",\"#2b73fd\",\"#2c72fd\",\"#2c71fd\",\"#2c6ffd\",\"#2c6efd\",\"#2d6cfd\",\"#2d6bfd\",\"#2d6afc\",\"#2e68fc\",\"#2e67fc\",\"#2e65fc\",\"#2e64fc\",\"#2f62fc\",\"#2f61fc\",\"#2f5ffc\",\"#2f5efc\",\"#2f5dfc\",\"#2f5bfc\",\"#2f5afc\",\"#2f58fb\",\"#2f57fb\",\"#2f55fb\",\"#2f53fb\",\"#2f52fb\",\"#2f50fb\",\"#2f4ffb\",\"#2f4dfb\",\"#2e4cfb\",\"#2e4afb\",\"#2e48fb\",\"#2e47fa\",\"#2d45fa\",\"#2d43fa\",\"#2d42fa\",\"#2d40fa\",\"#2c3efa\",\"#2c3dfa\",\"#2b3bf9\",\"#2b39f9\",\"#2a37f9\",\"#2a36f8\",\"#2934f8\",\"#2832f7\",\"#2831f7\",\"#272ff6\",\"#262ef5\",\"#252cf5\",\"#252af4\",\"#2429f3\",\"#2327f2\",\"#2226f1\",\"#2124f0\",\"#2023ef\",\"#1f22ee\",\"#1e20ed\",\"#1d1feb\",\"#1c1eea\",\"#1b1ce9\",\"#1a1be7\",\"#181ae6\",\"#1719e5\",\"#1618e3\",\"#1417e1\",\"#1316e0\",\"#1215de\",\"#1014dc\",\"#0f13db\",\"#0e12d9\",\"#0d11d7\",\"#0c10d5\",\"#0b0fd3\",\"#0a0ed1\",\"#090dd0\",\"#080dce\",\"#080ccc\",\"#070bca\",\"#070ac8\",\"#0709c6\",\"#0708c4\",\"#0707c2\",\"#0707bf\",\"#0806bd\",\"#0806bb\",\"#0905b9\",\"#0904b7\",\"#0a04b5\",\"#0a04b2\",\"#0b03b0\",\"#0c03ae\",\"#0d02ab\",\"#0e02a9\",\"#0e02a7\",\"#0f02a4\",\"#0f01a2\",\"#1001a0\",\"#10019d\",\"#10019b\",\"#100199\",\"#100197\",\"#100194\",\"#0f0192\",\"#0f0190\",\"#0f018e\",\"#0e018b\",\"#0e0189\",\"#0d0187\",\"#0d0185\",\"#0c0183\",\"#0b0181\",\"#0b017e\",\"#0a017c\",\"#09017a\",\"#090178\",\"#080276\",\"#070274\",\"#060272\",\"#060270\",\"#05026e\",\"#04026c\",\"#030269\",\"#030267\",\"#020265\",\"#010263\",\"#010261\",\"#00025f\",\"#00025d\",\"#00025b\",\"#000259\",\"#000257\",\"#000255\",\"#000154\",\"#000152\",\"#000150\",\"#00004e\"]},\"id\":\"5113\",\"type\":\"LinearColorMapper\"},{\"attributes\":{\"attribution\":\"&copy; <a href=\\\"https://www.openstreetmap.org/copyright\\\">OpenStreetMap</a> contributors\",\"url\":\"https://c.tile.openstreetmap.org/{Z}/{X}/{Y}.png\"},\"id\":\"5108\",\"type\":\"WMTSTileSource\"},{\"attributes\":{\"end\":-13619293.631218664,\"min_interval\":5,\"reset_end\":-13619293.631218664,\"reset_start\":-13638593.919921018,\"start\":-13638593.919921018,\"tags\":[[[\"Lon\",\"Lon\",null]]]},\"id\":\"5043\",\"type\":\"Range1d\"},{\"attributes\":{\"tools\":[{\"id\":\"5047\"},{\"id\":\"5067\"},{\"id\":\"5068\"},{\"id\":\"5069\"},{\"id\":\"5070\"},{\"id\":\"5071\"}]},\"id\":\"5073\",\"type\":\"Toolbar\"},{\"attributes\":{},\"id\":\"5132\",\"type\":\"UnionRenderers\"},{\"attributes\":{},\"id\":\"5115\",\"type\":\"Selection\"},{\"attributes\":{\"coordinates\":null,\"group\":null,\"level\":\"glyph\",\"tile_source\":{\"id\":\"5108\"}},\"id\":\"5111\",\"type\":\"TileRenderer\"},{\"attributes\":{\"axis_label\":\"x\",\"coordinates\":null,\"formatter\":{\"id\":\"5083\"},\"group\":null,\"major_label_policy\":{\"id\":\"5088\"},\"ticker\":{\"id\":\"5082\"}},\"id\":\"5059\",\"type\":\"LinearAxis\"},{\"attributes\":{\"dimension\":\"lon\"},\"id\":\"5082\",\"type\":\"MercatorTicker\"},{\"attributes\":{\"callback\":null,\"formatters\":{\"$x\":{\"id\":\"5126\"},\"$y\":{\"id\":\"5127\"}},\"renderers\":[{\"id\":\"5122\"}],\"tags\":[\"hv_created\"],\"tooltips\":[[\"Lon\",\"$x{custom}\"],[\"Lat\",\"$y{custom}\"],[\"gross_rent\",\"@{gross_rent}\"],[\"sale_price_sqr_foot\",\"@{sale_price_sqr_foot}\"],[\"Neighborhood\",\"@{Neighborhood}\"]]},\"id\":\"5047\",\"type\":\"HoverTool\"},{\"attributes\":{\"fill_alpha\":{\"value\":0.2},\"fill_color\":{\"field\":\"color\",\"transform\":{\"id\":\"5113\"}},\"hatch_alpha\":{\"value\":0.2},\"hatch_color\":{\"field\":\"color\",\"transform\":{\"id\":\"5113\"}},\"line_alpha\":{\"value\":0.2},\"line_color\":{\"field\":\"color\",\"transform\":{\"id\":\"5113\"}},\"size\":{\"field\":\"size\"},\"x\":{\"field\":\"Lon\"},\"y\":{\"field\":\"Lat\"}},\"id\":\"5121\",\"type\":\"Scatter\"},{\"attributes\":{\"fill_color\":{\"field\":\"color\",\"transform\":{\"id\":\"5113\"}},\"hatch_color\":{\"field\":\"color\",\"transform\":{\"id\":\"5113\"}},\"line_color\":{\"field\":\"color\",\"transform\":{\"id\":\"5113\"}},\"size\":{\"field\":\"size\"},\"x\":{\"field\":\"Lon\"},\"y\":{\"field\":\"Lat\"}},\"id\":\"5119\",\"type\":\"Scatter\"},{\"attributes\":{\"coordinates\":null,\"group\":null,\"text_color\":\"black\",\"text_font_size\":\"12pt\"},\"id\":\"5051\",\"type\":\"Title\"},{\"attributes\":{\"axis\":{\"id\":\"5059\"},\"coordinates\":null,\"grid_line_color\":null,\"group\":null,\"ticker\":null},\"id\":\"5062\",\"type\":\"Grid\"},{\"attributes\":{\"below\":[{\"id\":\"5059\"}],\"center\":[{\"id\":\"5062\"},{\"id\":\"5066\"}],\"frame_height\":500,\"frame_width\":700,\"height\":null,\"left\":[{\"id\":\"5063\"}],\"margin\":[5,5,5,5],\"match_aspect\":true,\"min_border_bottom\":10,\"min_border_left\":10,\"min_border_right\":10,\"min_border_top\":10,\"renderers\":[{\"id\":\"5111\"},{\"id\":\"5122\"}],\"right\":[{\"id\":\"5125\"}],\"sizing_mode\":\"fixed\",\"title\":{\"id\":\"5051\"},\"toolbar\":{\"id\":\"5073\"},\"width\":null,\"x_range\":{\"id\":\"5043\"},\"x_scale\":{\"id\":\"5055\"},\"y_range\":{\"id\":\"5044\"},\"y_scale\":{\"id\":\"5057\"}},\"id\":\"5050\",\"subtype\":\"Figure\",\"type\":\"Plot\"},{\"attributes\":{},\"id\":\"5124\",\"type\":\"BasicTicker\"},{\"attributes\":{\"axis\":{\"id\":\"5063\"},\"coordinates\":null,\"dimension\":1,\"grid_line_color\":null,\"group\":null,\"ticker\":null},\"id\":\"5066\",\"type\":\"Grid\"},{\"attributes\":{\"dimension\":\"lat\"},\"id\":\"5085\",\"type\":\"MercatorTickFormatter\"},{\"attributes\":{\"code\":\"\\n        var projections = Bokeh.require(\\\"core/util/projections\\\");\\n        var x = special_vars.data_x\\n        var y = special_vars.data_y\\n        if (projections.wgs84_mercator.invert == null) {\\n          var coords = projections.wgs84_mercator.inverse([x, y])\\n        } else {\\n          var coords = projections.wgs84_mercator.invert(x, y)\\n        }\\n        return \\\"\\\" + (coords[0]).toFixed(4)\\n    \"},\"id\":\"5126\",\"type\":\"CustomJSHover\"},{\"attributes\":{\"margin\":[5,5,5,5],\"name\":\"HSpacer10870\",\"sizing_mode\":\"stretch_width\"},\"id\":\"5038\",\"type\":\"Spacer\"},{\"attributes\":{\"axis_label\":\"y\",\"coordinates\":null,\"formatter\":{\"id\":\"5085\"},\"group\":null,\"major_label_policy\":{\"id\":\"5095\"},\"ticker\":{\"id\":\"5084\"}},\"id\":\"5063\",\"type\":\"LinearAxis\"},{\"attributes\":{\"code\":\"\\n        var projections = Bokeh.require(\\\"core/util/projections\\\");\\n        var x = special_vars.data_x\\n        var y = special_vars.data_y\\n        if (projections.wgs84_mercator.invert == null) {\\n          var coords = projections.wgs84_mercator.inverse([x, y])\\n        } else {\\n          var coords = projections.wgs84_mercator.invert(x, y)\\n        }\\n        return \\\"\\\" + (coords[1]).toFixed(4)\\n    \"},\"id\":\"5127\",\"type\":\"CustomJSHover\"}],\"root_ids\":[\"5037\"]},\"title\":\"Bokeh Application\",\"version\":\"2.4.2\"}};\n",
       "    var render_items = [{\"docid\":\"db1027ff-e8bf-440e-84ed-b64ecc829194\",\"root_ids\":[\"5037\"],\"roots\":{\"5037\":\"99804886-6cfc-49bf-8cde-f1cb82e0170c\"}}];\n",
       "    root.Bokeh.embed.embed_items_notebook(docs_json, render_items);\n",
       "  }\n",
       "  if (root.Bokeh !== undefined && root.Bokeh.Panel !== undefined) {\n",
       "    embed_document(root);\n",
       "  } else {\n",
       "    var attempts = 0;\n",
       "    var timer = setInterval(function(root) {\n",
       "      if (root.Bokeh !== undefined && root.Bokeh.Panel !== undefined) {\n",
       "        clearInterval(timer);\n",
       "        embed_document(root);\n",
       "      } else if (document.readyState == \"complete\") {\n",
       "        attempts++;\n",
       "        if (attempts > 200) {\n",
       "          clearInterval(timer);\n",
       "          console.log(\"Bokeh: ERROR: Unable to run BokehJS code because BokehJS library is missing\");\n",
       "        }\n",
       "      }\n",
       "    }, 25, root)\n",
       "  }\n",
       "})(window);</script>"
      ],
      "text/plain": [
       ":Overlay\n",
       "   .Tiles.I  :Tiles   [x,y]\n",
       "   .Points.I :Points   [Lon,Lat]   (gross_rent,sale_price_sqr_foot,Neighborhood)"
      ]
     },
     "execution_count": 45,
     "metadata": {
      "application/vnd.holoviews_exec.v0+json": {
       "id": "5037"
      }
     },
     "output_type": "execute_result"
    }
   ],
   "source": [
    "all_neighborhoods_df.hvplot.points(\"Lon\",\"Lat\",\n",
    "                                   geo=True,\n",
    "                                   tiles=True,\n",
    "                                   size=\"sale_price_sqr_foot\",\n",
    "                                   frame_width=700,\n",
    "                                   frame_height=500,\n",
    "                                   color=\"gross_rent\",\n",
    "                                   hover_cols = ['Neighborhood'])"
   ]
  },
  {
   "cell_type": "code",
   "execution_count": null,
   "metadata": {},
   "outputs": [],
   "source": []
  }
 ],
 "metadata": {
  "file_extension": ".py",
  "kernelspec": {
   "display_name": "Python 3 (ipykernel)",
   "language": "python",
   "name": "python3"
  },
  "language_info": {
   "codemirror_mode": {
    "name": "ipython",
    "version": 3
   },
   "file_extension": ".py",
   "mimetype": "text/x-python",
   "name": "python",
   "nbconvert_exporter": "python",
   "pygments_lexer": "ipython3",
   "version": "3.9.7"
  },
  "mimetype": "text/x-python",
  "name": "python",
  "npconvert_exporter": "python",
  "pygments_lexer": "ipython3",
  "version": 3
 },
 "nbformat": 4,
 "nbformat_minor": 4
}
